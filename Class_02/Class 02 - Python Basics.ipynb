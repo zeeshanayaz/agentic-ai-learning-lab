{
 "cells": [
  {
   "cell_type": "markdown",
   "id": "7903a633-0fc8-4d94-a27c-11aab2dd0f84",
   "metadata": {},
   "source": [
    "## List"
   ]
  },
  {
   "cell_type": "code",
   "execution_count": null,
   "id": "9aab9929-4d1c-4a02-8e02-18d43c2e8036",
   "metadata": {},
   "outputs": [],
   "source": []
  },
  {
   "cell_type": "markdown",
   "id": "75731cff-5c21-47e3-aaf8-d54179aa9820",
   "metadata": {},
   "source": [
    "## Tuple\n",
    "- Ordered\n",
    "- Unchangeable\n",
    "- Allow Duplicates\n",
    "- Immutable"
   ]
  },
  {
   "cell_type": "code",
   "execution_count": 1,
   "id": "a9d13694-972d-4754-aa50-d7a19bf3952b",
   "metadata": {},
   "outputs": [],
   "source": [
    "tuple1 = ('AGENTIC AI', 2, 2.5, True)"
   ]
  },
  {
   "cell_type": "code",
   "execution_count": 5,
   "id": "be38752e-b99b-417a-80d4-06be1ae0ca30",
   "metadata": {},
   "outputs": [
    {
     "data": {
      "text/plain": [
       "1"
      ]
     },
     "execution_count": 5,
     "metadata": {},
     "output_type": "execute_result"
    }
   ],
   "source": [
    "# Count existance of an object\n",
    "tuple1.count(2)"
   ]
  },
  {
   "cell_type": "code",
   "execution_count": 6,
   "id": "bbc22015-66c8-4404-9ff3-e2ef81fe6da7",
   "metadata": {},
   "outputs": [
    {
     "data": {
      "text/plain": [
       "2"
      ]
     },
     "execution_count": 6,
     "metadata": {},
     "output_type": "execute_result"
    }
   ],
   "source": [
    "# Return index of an object\n",
    "tuple1.index(2.5)"
   ]
  },
  {
   "cell_type": "code",
   "execution_count": 7,
   "id": "edc5097e-9d60-468c-a649-9beeb5666aaf",
   "metadata": {},
   "outputs": [],
   "source": [
    "# Type cast to List"
   ]
  },
  {
   "cell_type": "code",
   "execution_count": 8,
   "id": "3027049b-1376-4e85-9eff-f79ac1d06be2",
   "metadata": {},
   "outputs": [
    {
     "data": {
      "text/plain": [
       "['AGENTIC AI', 2, 2.5, True]"
      ]
     },
     "execution_count": 8,
     "metadata": {},
     "output_type": "execute_result"
    }
   ],
   "source": [
    "list(tuple1)"
   ]
  },
  {
   "cell_type": "code",
   "execution_count": 9,
   "id": "a1315f53-e48a-4dc9-81c4-24e8a5198c6b",
   "metadata": {},
   "outputs": [
    {
     "data": {
      "text/plain": [
       "('AGENTIC AI', 2, 2.5, True)"
      ]
     },
     "execution_count": 9,
     "metadata": {},
     "output_type": "execute_result"
    }
   ],
   "source": [
    "tuple1"
   ]
  },
  {
   "cell_type": "markdown",
   "id": "002c3cb2-09d4-45ac-afe5-7811953c4214",
   "metadata": {},
   "source": [
    "## Sets\n",
    "- Unordered\n",
    "- Changeable\n",
    "- No-Duplicates\n",
    "- Mutable"
   ]
  },
  {
   "cell_type": "code",
   "execution_count": 10,
   "id": "03a14e2b-34b9-428f-979c-851034fadcf0",
   "metadata": {},
   "outputs": [],
   "source": [
    "set1 = {1,2,3,4,5,6,7,8,9,0,\"A\", \"B\", \"C\", \"D\", \"AAPLE\", \"APPLE\"}"
   ]
  },
  {
   "cell_type": "code",
   "execution_count": 11,
   "id": "9d02228f-0b53-4839-a848-2733a1caac16",
   "metadata": {},
   "outputs": [
    {
     "data": {
      "text/plain": [
       "{0, 1, 2, 3, 4, 5, 6, 7, 8, 9, 'A', 'AAPLE', 'APPLE', 'B', 'C', 'D'}"
      ]
     },
     "execution_count": 11,
     "metadata": {},
     "output_type": "execute_result"
    }
   ],
   "source": [
    "set1"
   ]
  },
  {
   "cell_type": "code",
   "execution_count": 14,
   "id": "fe652618-39b0-4513-8ba9-004c7aeb043f",
   "metadata": {},
   "outputs": [
    {
     "data": {
      "text/plain": [
       "2"
      ]
     },
     "execution_count": 14,
     "metadata": {},
     "output_type": "execute_result"
    }
   ],
   "source": [
    "set1.pop()"
   ]
  },
  {
   "cell_type": "code",
   "execution_count": 15,
   "id": "a8368abe-4171-4ec6-afa7-8e1d64410d86",
   "metadata": {},
   "outputs": [
    {
     "data": {
      "text/plain": [
       "13"
      ]
     },
     "execution_count": 15,
     "metadata": {},
     "output_type": "execute_result"
    }
   ],
   "source": [
    "len(set1)"
   ]
  },
  {
   "cell_type": "code",
   "execution_count": 16,
   "id": "ca1ac286-9109-4eaf-a1ae-b73dce207b9f",
   "metadata": {},
   "outputs": [
    {
     "data": {
      "text/plain": [
       "set"
      ]
     },
     "execution_count": 16,
     "metadata": {},
     "output_type": "execute_result"
    }
   ],
   "source": [
    "type(set1)"
   ]
  },
  {
   "cell_type": "code",
   "execution_count": 19,
   "id": "6037920f-3d02-4ac2-be4f-8270b1f298c7",
   "metadata": {},
   "outputs": [
    {
     "data": {
      "text/plain": [
       "{'apple', 'banana', 'cherry'}"
      ]
     },
     "execution_count": 19,
     "metadata": {},
     "output_type": "execute_result"
    }
   ],
   "source": [
    "set2 = set((\"apple\", \"banana\", \"cherry\"))\n",
    "set2"
   ]
  },
  {
   "cell_type": "code",
   "execution_count": 21,
   "id": "338df185-2f56-48e7-bf6d-75968e81c65f",
   "metadata": {},
   "outputs": [
    {
     "data": {
      "text/plain": [
       "True"
      ]
     },
     "execution_count": 21,
     "metadata": {},
     "output_type": "execute_result"
    }
   ],
   "source": [
    "# Check if \"banana\" is present in the set:\n",
    "'A' in set1"
   ]
  },
  {
   "cell_type": "code",
   "execution_count": 22,
   "id": "2158605c-6fc3-450b-aee3-6fc6f8d3da85",
   "metadata": {},
   "outputs": [
    {
     "name": "stdout",
     "output_type": "stream",
     "text": [
      "False\n"
     ]
    }
   ],
   "source": [
    "print(\"A\" not in set1)"
   ]
  },
  {
   "cell_type": "markdown",
   "id": "ba1e7319-83f8-4523-8956-f9a41697a620",
   "metadata": {},
   "source": []
  }
 ],
 "metadata": {
  "kernelspec": {
   "display_name": "Python 3 (ipykernel)",
   "language": "python",
   "name": "python3"
  },
  "language_info": {
   "codemirror_mode": {
    "name": "ipython",
    "version": 3
   },
   "file_extension": ".py",
   "mimetype": "text/x-python",
   "name": "python",
   "nbconvert_exporter": "python",
   "pygments_lexer": "ipython3",
   "version": "3.12.7"
  }
 },
 "nbformat": 4,
 "nbformat_minor": 5
}

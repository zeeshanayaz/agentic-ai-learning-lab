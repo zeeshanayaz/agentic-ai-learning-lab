{
 "cells": [
  {
   "cell_type": "markdown",
   "id": "2a549a82-e40b-48d0-84a8-fa346ce6adfd",
   "metadata": {},
   "source": [
    "## Function"
   ]
  },
  {
   "cell_type": "code",
   "execution_count": 1,
   "id": "d3fdcba4-b0c2-4cef-96b0-97e77c848421",
   "metadata": {},
   "outputs": [],
   "source": [
    "# def functionName():\n",
    "#     Code Block / Statement"
   ]
  },
  {
   "cell_type": "code",
   "execution_count": 2,
   "id": "9bc7bede-cb28-4b1e-9600-21c75379b402",
   "metadata": {},
   "outputs": [],
   "source": [
    "def greeting():\n",
    "    print(\"Welcome to the Python course\")"
   ]
  },
  {
   "cell_type": "code",
   "execution_count": 3,
   "id": "38d9a209-2f5e-4feb-92b3-e7993a50c608",
   "metadata": {},
   "outputs": [
    {
     "name": "stdout",
     "output_type": "stream",
     "text": [
      "Welcome to the Python course\n"
     ]
    }
   ],
   "source": [
    "greeting()"
   ]
  },
  {
   "cell_type": "code",
   "execution_count": 4,
   "id": "59e576b9-ebb9-4330-9008-75290fbd38ab",
   "metadata": {},
   "outputs": [
    {
     "name": "stdout",
     "output_type": "stream",
     "text": [
      "Welcome to the Python course\n",
      "None\n"
     ]
    }
   ],
   "source": [
    "# Not returning anything from greeting() so display None\n",
    "print(greeting())"
   ]
  },
  {
   "cell_type": "code",
   "execution_count": 5,
   "id": "584b572b-7d8b-46d0-ad60-408f152a56f7",
   "metadata": {},
   "outputs": [],
   "source": [
    "def greeting(name):\n",
    "    print(f'My name is {name}')"
   ]
  },
  {
   "cell_type": "code",
   "execution_count": 6,
   "id": "8b4d7e25-bc56-4d2b-8322-941c3bbabec0",
   "metadata": {},
   "outputs": [
    {
     "name": "stdout",
     "output_type": "stream",
     "text": [
      "My name is Zeeshan\n"
     ]
    }
   ],
   "source": [
    "greeting('Zeeshan')"
   ]
  },
  {
   "cell_type": "code",
   "execution_count": 7,
   "id": "d2625643-c944-4bda-b218-bb9c0d45b387",
   "metadata": {},
   "outputs": [],
   "source": [
    "def greeting(name):\n",
    "    return f'My name is {name}'"
   ]
  },
  {
   "cell_type": "code",
   "execution_count": 8,
   "id": "98b8f742-2266-4e37-96db-4dffe098bcda",
   "metadata": {},
   "outputs": [
    {
     "data": {
      "text/plain": [
       "'My name is Zeeshan'"
      ]
     },
     "execution_count": 8,
     "metadata": {},
     "output_type": "execute_result"
    }
   ],
   "source": [
    "greeting('Zeeshan')"
   ]
  },
  {
   "cell_type": "code",
   "execution_count": 9,
   "id": "603f13ea-6923-47db-ab92-5669cdec3827",
   "metadata": {},
   "outputs": [
    {
     "name": "stdout",
     "output_type": "stream",
     "text": [
      "My name is Zeeshan\n"
     ]
    }
   ],
   "source": [
    "print(greeting('Zeeshan'))"
   ]
  },
  {
   "cell_type": "code",
   "execution_count": 10,
   "id": "a6f90e7d-a71c-467e-aef8-78a0f01c9fc6",
   "metadata": {},
   "outputs": [],
   "source": [
    "profile = {\n",
    "    'name': 'Zeeshan',\n",
    "    'father_name': 'Ayaz',\n",
    "}"
   ]
  },
  {
   "cell_type": "code",
   "execution_count": 11,
   "id": "016daf10-4a07-45ae-8cc0-120b4774636d",
   "metadata": {},
   "outputs": [
    {
     "data": {
      "text/plain": [
       "'Zeeshan'"
      ]
     },
     "execution_count": 11,
     "metadata": {},
     "output_type": "execute_result"
    }
   ],
   "source": [
    "profile['name']"
   ]
  },
  {
   "cell_type": "code",
   "execution_count": 12,
   "id": "04dee2b9-379a-4eaa-82b9-0c190c4c29d5",
   "metadata": {},
   "outputs": [
    {
     "ename": "KeyError",
     "evalue": "'age'",
     "output_type": "error",
     "traceback": [
      "\u001b[1;31m---------------------------------------------------------------------------\u001b[0m",
      "\u001b[1;31mKeyError\u001b[0m                                  Traceback (most recent call last)",
      "Cell \u001b[1;32mIn[12], line 1\u001b[0m\n\u001b[1;32m----> 1\u001b[0m profile[\u001b[38;5;124m'\u001b[39m\u001b[38;5;124mage\u001b[39m\u001b[38;5;124m'\u001b[39m]\n",
      "\u001b[1;31mKeyError\u001b[0m: 'age'"
     ]
    }
   ],
   "source": [
    "profile['age']"
   ]
  },
  {
   "cell_type": "code",
   "execution_count": 13,
   "id": "be193722-128d-4630-ad4a-5403e24a9881",
   "metadata": {},
   "outputs": [
    {
     "data": {
      "text/plain": [
       "'Zeeshan'"
      ]
     },
     "execution_count": 13,
     "metadata": {},
     "output_type": "execute_result"
    }
   ],
   "source": [
    "profile.get('name')"
   ]
  },
  {
   "cell_type": "code",
   "execution_count": 15,
   "id": "5375c1e4-c67f-49e7-8645-e5d6600a65ca",
   "metadata": {},
   "outputs": [],
   "source": [
    "profile.get('age')"
   ]
  },
  {
   "cell_type": "code",
   "execution_count": 43,
   "id": "24c007fe-e22c-49a7-a5e0-f029a9b1ea15",
   "metadata": {},
   "outputs": [],
   "source": [
    "def fun(*args):\n",
    "    return sum(args)"
   ]
  },
  {
   "cell_type": "code",
   "execution_count": 44,
   "id": "8c1dbc40-1be6-4470-bff1-951fd43f2cef",
   "metadata": {},
   "outputs": [
    {
     "name": "stdout",
     "output_type": "stream",
     "text": [
      "30\n"
     ]
    }
   ],
   "source": [
    "print(fun(5, 10, 15))"
   ]
  },
  {
   "cell_type": "code",
   "execution_count": 45,
   "id": "49f5ff9c-378a-4fa9-a8fe-e28978da5822",
   "metadata": {},
   "outputs": [],
   "source": [
    "def print_arguments(**kwargs):\n",
    "    print(kwargs.values())"
   ]
  },
  {
   "cell_type": "code",
   "execution_count": 46,
   "id": "ee334aa2-8ac7-4e9b-841c-65b10809d935",
   "metadata": {},
   "outputs": [
    {
     "name": "stdout",
     "output_type": "stream",
     "text": [
      "dict_values(['Zeeshan', 30])\n"
     ]
    }
   ],
   "source": [
    "print_arguments(name=\"Zeeshan\", age=30)"
   ]
  },
  {
   "cell_type": "markdown",
   "id": "9c443f61-7c94-4fdf-91d1-0ee6aa6b106f",
   "metadata": {},
   "source": [
    "## Async Function"
   ]
  },
  {
   "cell_type": "code",
   "execution_count": 47,
   "id": "fdb9c41f-0a96-43f1-80be-5c9a6e9d7f1e",
   "metadata": {},
   "outputs": [],
   "source": [
    "async def hello():\n",
    "    return 'Hello World'"
   ]
  },
  {
   "cell_type": "code",
   "execution_count": 48,
   "id": "0aecbf9d-b790-4fe3-8248-36dbf3553106",
   "metadata": {},
   "outputs": [
    {
     "data": {
      "text/plain": [
       "<coroutine object hello at 0x0000023640271900>"
      ]
     },
     "execution_count": 48,
     "metadata": {},
     "output_type": "execute_result"
    }
   ],
   "source": [
    "hello()"
   ]
  },
  {
   "cell_type": "code",
   "execution_count": 49,
   "id": "019f7829-01bb-43f0-b66f-b9abf7b833ff",
   "metadata": {},
   "outputs": [
    {
     "data": {
      "text/plain": [
       "'Hello World'"
      ]
     },
     "execution_count": 49,
     "metadata": {},
     "output_type": "execute_result"
    }
   ],
   "source": [
    "await hello()"
   ]
  },
  {
   "cell_type": "markdown",
   "id": "47af9faa-b0ac-476f-8683-677ba8f44733",
   "metadata": {},
   "source": [
    "## Decorators Function"
   ]
  },
  {
   "cell_type": "code",
   "execution_count": 50,
   "id": "e20a4e01-8481-4508-b562-678fcb030e66",
   "metadata": {},
   "outputs": [],
   "source": [
    "def decorator(func):\n",
    "    def wrapper():\n",
    "        print(\"Before calling the function.\")\n",
    "        func()\n",
    "        print(\"After calling the function.\")\n",
    "    return wrapper\n"
   ]
  },
  {
   "cell_type": "code",
   "execution_count": 51,
   "id": "a36471cc-e707-48ec-9cbb-b4b97edd528a",
   "metadata": {},
   "outputs": [],
   "source": [
    "def greet():\n",
    "    print(\"Hello, World!\")"
   ]
  },
  {
   "cell_type": "code",
   "execution_count": 52,
   "id": "c7a01773-406f-40da-b8b5-241b42f800e0",
   "metadata": {},
   "outputs": [
    {
     "name": "stdout",
     "output_type": "stream",
     "text": [
      "Hello, World!\n"
     ]
    }
   ],
   "source": [
    "greet()"
   ]
  },
  {
   "cell_type": "code",
   "execution_count": 53,
   "id": "5cfcefa8-f492-41ef-8f92-f38412878cfd",
   "metadata": {},
   "outputs": [],
   "source": [
    "@decorator\n",
    "def greet():\n",
    "    print(\"Hello, World!\")"
   ]
  },
  {
   "cell_type": "code",
   "execution_count": 54,
   "id": "12be1661-c353-4681-a740-28f47d117f97",
   "metadata": {},
   "outputs": [
    {
     "name": "stdout",
     "output_type": "stream",
     "text": [
      "Before calling the function.\n",
      "Hello, World!\n",
      "After calling the function.\n"
     ]
    }
   ],
   "source": [
    "greet()"
   ]
  },
  {
   "cell_type": "code",
   "execution_count": null,
   "id": "3184afd1-5c31-420e-abfc-8636b8b55b87",
   "metadata": {},
   "outputs": [],
   "source": []
  }
 ],
 "metadata": {
  "kernelspec": {
   "display_name": "Python 3 (ipykernel)",
   "language": "python",
   "name": "python3"
  },
  "language_info": {
   "codemirror_mode": {
    "name": "ipython",
    "version": 3
   },
   "file_extension": ".py",
   "mimetype": "text/x-python",
   "name": "python",
   "nbconvert_exporter": "python",
   "pygments_lexer": "ipython3",
   "version": "3.12.7"
  }
 },
 "nbformat": 4,
 "nbformat_minor": 5
}

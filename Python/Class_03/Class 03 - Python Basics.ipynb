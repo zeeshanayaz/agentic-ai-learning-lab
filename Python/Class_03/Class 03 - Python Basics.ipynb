{
 "cells": [
  {
   "cell_type": "markdown",
   "id": "b02495f3-fed7-4797-8891-5bfc6cf57470",
   "metadata": {},
   "source": [
    "## Class Exercise"
   ]
  },
  {
   "cell_type": "markdown",
   "id": "ff065fcb-ab92-4845-bb1c-d59217ea7078",
   "metadata": {},
   "source": [
    "### NUMBER GUESSING GAME\n",
    "\n",
    "- User has limited chances based on the difficulty level. (EASY, MEDIUM, HARD)"
   ]
  },
  {
   "cell_type": "code",
   "execution_count": 20,
   "id": "13dee056-ebf4-4919-9337-7390d3e0eb63",
   "metadata": {},
   "outputs": [
    {
     "name": "stdin",
     "output_type": "stream",
     "text": [
      "Enter Minimum Range:    1\n",
      "Enter Maximum Range:    2\n"
     ]
    },
    {
     "name": "stdout",
     "output_type": "stream",
     "text": [
      "Select difficulty Level\n",
      "Easy: 1\n",
      "Medium: 2\n",
      "Hard: 3\n",
      "Guess the number between 1 to 2\n"
     ]
    },
    {
     "name": "stdin",
     "output_type": "stream",
     "text": [
      "Guess the number 1\n"
     ]
    },
    {
     "name": "stdout",
     "output_type": "stream",
     "text": [
      "You Win\n"
     ]
    }
   ],
   "source": [
    "import random\n",
    "\n",
    "minRange = input(\"Enter Minimum Range:   \")\n",
    "maxRange = input(\"Enter Maximum Range:   \")\n",
    "\n",
    "if (maxRange > minRange) & minRange.isdigit() & maxRange.isdigit():\n",
    "    print(\"\"\"Select difficulty Level\n",
    "Easy: 1\n",
    "Medium: 2\n",
    "Hard: 3\"\"\")\n",
    "    \n",
    "    computerGuess = random.randrange(int(minRange), int(maxRange))\n",
    "    print(f\"Guess the number between {minRange} to {maxRange}\")\n",
    "    while True:\n",
    "        userGuess = int(input(\"Guess the number\"))\n",
    "        if userGuess == computerGuess:\n",
    "            print(\"You Win\")\n",
    "            break\n",
    "        elif userGuess < computerGuess:\n",
    "            print(\"You Guess Low\")\n",
    "        else:\n",
    "            print(\"You Guess High\")\n",
    "else:\n",
    "    print(\"Invalid input\")"
   ]
  },
  {
   "cell_type": "code",
   "execution_count": null,
   "id": "44efea81-897d-4b4f-9cf8-27f322a5ab7a",
   "metadata": {},
   "outputs": [],
   "source": []
  }
 ],
 "metadata": {
  "kernelspec": {
   "display_name": "Python 3 (ipykernel)",
   "language": "python",
   "name": "python3"
  },
  "language_info": {
   "codemirror_mode": {
    "name": "ipython",
    "version": 3
   },
   "file_extension": ".py",
   "mimetype": "text/x-python",
   "name": "python",
   "nbconvert_exporter": "python",
   "pygments_lexer": "ipython3",
   "version": "3.12.7"
  }
 },
 "nbformat": 4,
 "nbformat_minor": 5
}

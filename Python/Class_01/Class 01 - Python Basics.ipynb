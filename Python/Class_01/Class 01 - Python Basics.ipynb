{
 "cells": [
  {
   "cell_type": "markdown",
   "id": "54e46060-9099-4a6c-97b2-ccf90b12ce3d",
   "metadata": {},
   "source": [
    "## Print"
   ]
  },
  {
   "cell_type": "code",
   "execution_count": 1,
   "id": "396117aa-440a-4743-8d49-bfe34d3b3839",
   "metadata": {},
   "outputs": [
    {
     "name": "stdout",
     "output_type": "stream",
     "text": [
      "Hello World\n"
     ]
    }
   ],
   "source": [
    "print(\"Hello World\")"
   ]
  },
  {
   "cell_type": "code",
   "execution_count": 2,
   "id": "962825c5-f09e-4bac-9399-973cf3003067",
   "metadata": {},
   "outputs": [
    {
     "name": "stdout",
     "output_type": "stream",
     "text": [
      "Hello World\n"
     ]
    }
   ],
   "source": [
    "print ('Hello World')"
   ]
  },
  {
   "cell_type": "code",
   "execution_count": 3,
   "id": "4c90e62c-3a94-4db1-9fab-37c236a955c4",
   "metadata": {},
   "outputs": [
    {
     "name": "stdout",
     "output_type": "stream",
     "text": [
      "Hello\n",
      "World\n"
     ]
    }
   ],
   "source": [
    "print(\"\"\"Hello\n",
    "World\"\"\")"
   ]
  },
  {
   "cell_type": "markdown",
   "id": "6b821915-a982-4ba4-8afa-31c357258017",
   "metadata": {},
   "source": [
    "## Data Types"
   ]
  },
  {
   "cell_type": "markdown",
   "id": "36db5301-5c09-4e1a-8211-0434cec8099f",
   "metadata": {},
   "source": [
    "### Singular Data Types\n",
    "- String\n",
    "- Int\n",
    "- Float\n",
    "- Boolean\n",
    "- Complex"
   ]
  },
  {
   "cell_type": "code",
   "execution_count": 4,
   "id": "e7e1a38e-7644-4aee-acf3-ac0b2d7042d7",
   "metadata": {},
   "outputs": [],
   "source": [
    "var = \"Python First Class\"\n",
    "#Variable AssignOperator Values"
   ]
  },
  {
   "cell_type": "code",
   "execution_count": null,
   "id": "d37e9971-b5ed-4825-8ab3-b73af9c91c5c",
   "metadata": {},
   "outputs": [],
   "source": []
  }
 ],
 "metadata": {
  "kernelspec": {
   "display_name": "Python 3 (ipykernel)",
   "language": "python",
   "name": "python3"
  },
  "language_info": {
   "codemirror_mode": {
    "name": "ipython",
    "version": 3
   },
   "file_extension": ".py",
   "mimetype": "text/x-python",
   "name": "python",
   "nbconvert_exporter": "python",
   "pygments_lexer": "ipython3",
   "version": "3.12.7"
  }
 },
 "nbformat": 4,
 "nbformat_minor": 5
}
